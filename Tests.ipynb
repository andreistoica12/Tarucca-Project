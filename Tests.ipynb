{
 "cells": [
  {
   "cell_type": "code",
   "execution_count": 1,
   "id": "3e8f4c65",
   "metadata": {},
   "outputs": [],
   "source": [
    "import pandas as pd"
   ]
  },
  {
   "cell_type": "markdown",
   "id": "66e6eb08",
   "metadata": {},
   "source": [
    "I imported 2 previously used datasets from the company's database"
   ]
  },
  {
   "cell_type": "code",
   "execution_count": 2,
   "id": "ecdfe99c",
   "metadata": {},
   "outputs": [
    {
     "name": "stdout",
     "output_type": "stream",
     "text": [
      "44550000\n",
      "900000\n"
     ]
    }
   ],
   "source": [
    "df_40rpm = pd.read_csv(\"SubsetB_undamaged_40rpm_raw.csv\")\n",
    "df_idle = pd.read_csv(\"SubsetB_undamaged_idle_raw.csv\")\n",
    "print(len(df_40rpm))    # 44550000 entries\n",
    "print(len(df_idle))     # 900000 entries"
   ]
  },
  {
   "cell_type": "code",
   "execution_count": 10,
   "id": "8f6af5b5",
   "metadata": {},
   "outputs": [],
   "source": [
    "sensor8 = df_40rpm.iloc[:, 0]"
   ]
  },
  {
   "cell_type": "code",
   "execution_count": 17,
   "id": "3f55ec10",
   "metadata": {},
   "outputs": [
    {
     "data": {
      "text/plain": [
       "<AxesSubplot:ylabel='Frequency'>"
      ]
     },
     "execution_count": 17,
     "metadata": {},
     "output_type": "execute_result"
    },
    {
     "data": {
      "image/png": "[encoded data removed]",
      "text/plain": [
       "<Figure size 432x288 with 1 Axes>"
      ]
     },
     "metadata": {
      "needs_background": "light"
     },
     "output_type": "display_data"
    }
   ],
   "source": [
    "sensor8.plot.hist(bins=100, alpha=0.5)"
   ]
  },
  {
   "cell_type": "code",
   "execution_count": null,
   "id": "349e00f5",
   "metadata": {},
   "outputs": [],
   "source": []
  }
 ],
 "metadata": {
  "kernelspec": {
   "display_name": "Python 3 (ipykernel)",
   "language": "python",
   "name": "python3"
  },
  "language_info": {
   "codemirror_mode": {
    "name": "ipython",
    "version": 3
   },
   "file_extension": ".py",
   "mimetype": "text/x-python",
   "name": "python",
   "nbconvert_exporter": "python",
   "pygments_lexer": "ipython3",
   "version": "3.9.7"
  }
 },
 "nbformat": 4,
 "nbformat_minor": 5
}
